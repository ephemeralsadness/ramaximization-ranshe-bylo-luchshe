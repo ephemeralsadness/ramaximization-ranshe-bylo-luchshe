{
  "nbformat": 4,
  "nbformat_minor": 0,
  "metadata": {
    "kernelspec": {
      "display_name": "Python 3",
      "language": "python",
      "name": "python3"
    },
    "language_info": {
      "codemirror_mode": {
        "name": "ipython",
        "version": 2
      },
      "file_extension": ".py",
      "mimetype": "text/x-python",
      "name": "python",
      "nbconvert_exporter": "python",
      "pygments_lexer": "ipython2",
      "version": "2.7.6"
    },
    "colab": {
      "name": "ramaximization.ipynb",
      "provenance": [],
      "include_colab_link": true
    }
  },
  "cells": [
    {
      "cell_type": "markdown",
      "metadata": {
        "id": "view-in-github",
        "colab_type": "text"
      },
      "source": [
        "<a href=\"https://colab.research.google.com/github/ephemeralsadness/ramaximization-ranshe-bylo-luchshe/blob/master/ramaximization.ipynb\" target=\"_parent\"><img src=\"https://colab.research.google.com/assets/colab-badge.svg\" alt=\"Open In Colab\"/></a>"
      ]
    },
    {
      "cell_type": "code",
      "metadata": {
        "collapsed": true,
        "id": "w-YzJnWQAhNI"
      },
      "source": [
        "import pandas as pd\n",
        "\n",
        "from openpyxl import load_workbook"
      ],
      "execution_count": 17,
      "outputs": []
    },
    {
      "cell_type": "code",
      "metadata": {
        "pycharm": {
          "name": "#%%\n"
        },
        "id": "Txe1IiTjAhNV",
        "colab": {
          "base_uri": "https://localhost:8080/"
        },
        "outputId": "ab2409d9-4caf-4848-b14e-11884a161d55"
      },
      "source": [
        "# Загружаем входную таблицу\n",
        "wb = load_workbook('./output_vacation.xlsx')\n",
        "xls = pd.ExcelFile('./output_vacation.xlsx')\n",
        "# Проверяем имена листов\n",
        "print(wb.sheetnames)"
      ],
      "execution_count": 18,
      "outputs": [
        {
          "output_type": "stream",
          "text": [
            "['personal_rest', 'total_rests', 'qual_deficit', 'working_hours', 'summary']\n"
          ],
          "name": "stdout"
        }
      ]
    },
    {
      "cell_type": "code",
      "metadata": {
        "pycharm": {
          "name": "#%%\n"
        },
        "id": "5UCqKntbAhNY"
      },
      "source": [
        "# Переводим таблицу в списко датафреймов, где каждому датафрейму соответствует лист\n",
        "dfs = []\n",
        "for sheet in wb.sheetnames:\n",
        "    df = pd.read_excel(xls, sheet_name=sheet)\n",
        "    dfs.append(df)\n",
        "    df"
      ],
      "execution_count": 8,
      "outputs": []
    },
    {
      "cell_type": "code",
      "metadata": {
        "id": "mpNcgXzx7JyK"
      },
      "source": [
        "# Сохраняем каждый датафрейм с соответственным именем листа в csv\r\n",
        "for df, name in zip(dfs, wb.sheetnames):\r\n",
        "    df.to_csv(path_or_buf=(\"output/\"+name+\".csv\"), index=False)"
      ],
      "execution_count": 10,
      "outputs": []
    },
    {
      "cell_type": "code",
      "metadata": {
        "id": "-y6RBJUz7L4k"
      },
      "source": [
        "# Запаковываем все входные csv в архив\r\n",
        "!zip -r /content/CSVES.zip /content/output\r\n"
      ],
      "execution_count": null,
      "outputs": []
    },
    {
      "cell_type": "code",
      "metadata": {
        "pycharm": {
          "name": "#%%\n"
        },
        "id": "wuaR_mDlAhNi"
      },
      "source": [
        "# Читаем файлы csv с папки выхода \r\n",
        "import glob\r\n",
        "import os\r\n",
        "\r\n",
        "path = r'output' # use your path\r\n",
        "all_files = glob.glob(path + \"/*.csv\")\r\n",
        "\r\n",
        "out_dfs = []\r\n",
        "names = []\r\n",
        "for filename in all_files:\r\n",
        "    f = open(filename)\r\n",
        "    names.append(os.path.splitext(os.path.basename(f.name))[0])\r\n",
        "    df = pd.read_csv(filename, index_col=None)\r\n",
        "    out_dfs.append(df)\r\n",
        "\r\n"
      ],
      "execution_count": 23,
      "outputs": []
    },
    {
      "cell_type": "code",
      "metadata": {
        "id": "E2cgRuVL8P67"
      },
      "source": [
        "#записываем в xlsx таблицу\r\n",
        "path = r'output/OutTable.xlsx'\r\n",
        "writer = pd.ExcelWriter(path)\r\n",
        "\r\n",
        "for name, df in zip(names, out_dfs):\r\n",
        "    df.to_excel(writer, sheet_name=name, index=False)\r\n",
        "writer.save()"
      ],
      "execution_count": 24,
      "outputs": []
    },
    {
      "cell_type": "code",
      "metadata": {
        "id": "AsHCVu0cAALN"
      },
      "source": [
        "import csv \r\n",
        "import json \r\n",
        "\r\n",
        "def csv_to_json(csvFilePath, jsonFilePath):\r\n",
        "    jsonArray = []\r\n",
        "      \r\n",
        "    #read csv file\r\n",
        "    with open(csvFilePath, encoding='utf-8') as csvf: \r\n",
        "        #load csv file data using csv library's dictionary reader\r\n",
        "        csvReader = csv.DictReader(csvf) \r\n",
        "        #convert each csv row into python dict\r\n",
        "        for row in csvReader: \r\n",
        "            #add this python dict to json array\r\n",
        "            jsonArray.append(row)\r\n",
        "  \r\n",
        "    #convert python jsonArray to JSON String and write to file\r\n",
        "    with open(jsonFilePath, 'w', encoding='utf-8') as jsonf: \r\n",
        "        jsonString = json.dumps(jsonArray, indent=4)\r\n",
        "        jsonf.write(jsonString)\r\n"
      ],
      "execution_count": 26,
      "outputs": []
    },
    {
      "cell_type": "code",
      "metadata": {
        "id": "LgsksJf5mEU5"
      },
      "source": [
        "import glob\r\n",
        "import os\r\n",
        "\r\n",
        "path = r'output' # use your path\r\n",
        "all_files = glob.glob(path + \"/*.csv\")\r\n",
        "pathjson = r'jsons/'\r\n",
        "\r\n",
        "for filename in all_files:\r\n",
        "    f = open(filename)\r\n",
        "    name = (os.path.splitext(os.path.basename(f.name))[0])\r\n",
        "    csv_to_json(filename, pathjson+name+\".json\")"
      ],
      "execution_count": 27,
      "outputs": []
    },
    {
      "cell_type": "code",
      "metadata": {
        "id": "E9WhQ4N0sgPG",
        "outputId": "bcb07f15-7810-4795-a984-846045132d4e",
        "colab": {
          "base_uri": "https://localhost:8080/"
        }
      },
      "source": [
        "!zip -r /content/OutJsons.zip /content/jsons\r\n"
      ],
      "execution_count": 28,
      "outputs": [
        {
          "output_type": "stream",
          "text": [
            "  adding: content/jsons/ (stored 0%)\n",
            "  adding: content/jsons/workingHours.json (deflated 88%)\n",
            "  adding: content/jsons/totalRests.json (deflated 97%)\n",
            "  adding: content/jsons/.ipynb_checkpoints/ (stored 0%)\n",
            "  adding: content/jsons/personalRests.json (deflated 95%)\n",
            "  adding: content/jsons/qualDeficits.json (deflated 95%)\n",
            "  adding: content/jsons/monthResults.json (deflated 86%)\n"
          ],
          "name": "stdout"
        }
      ]
    },
    {
      "cell_type": "code",
      "metadata": {
        "id": "fzhsepuhstgE"
      },
      "source": [
        ""
      ],
      "execution_count": null,
      "outputs": []
    }
  ]
}