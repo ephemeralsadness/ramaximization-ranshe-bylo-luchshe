{
  "nbformat": 4,
  "nbformat_minor": 0,
  "metadata": {
    "kernelspec": {
      "display_name": "Python 3",
      "language": "python",
      "name": "python3"
    },
    "language_info": {
      "codemirror_mode": {
        "name": "ipython",
        "version": 2
      },
      "file_extension": ".py",
      "mimetype": "text/x-python",
      "name": "python",
      "nbconvert_exporter": "python",
      "pygments_lexer": "ipython2",
      "version": "2.7.6"
    },
    "colab": {
      "name": "ramaximization.ipynb",
      "provenance": [],
      "include_colab_link": true
    }
  },
  "cells": [
    {
      "cell_type": "markdown",
      "metadata": {
        "id": "view-in-github",
        "colab_type": "text"
      },
      "source": [
        "<a href=\"https://colab.research.google.com/github/ephemeralsadness/ramaximization-ranshe-bylo-luchshe/blob/master/ramaximization.ipynb\" target=\"_parent\"><img src=\"https://colab.research.google.com/assets/colab-badge.svg\" alt=\"Open In Colab\"/></a>"
      ]
    },
    {
      "cell_type": "code",
      "metadata": {
        "collapsed": true,
        "id": "w-YzJnWQAhNI"
      },
      "source": [
        "import pandas as pd\n",
        "\n",
        "from openpyxl import load_workbook"
      ],
      "execution_count": 6,
      "outputs": []
    },
    {
      "cell_type": "code",
      "metadata": {
        "pycharm": {
          "name": "#%%\n"
        },
        "id": "Txe1IiTjAhNV",
        "colab": {
          "base_uri": "https://localhost:8080/"
        },
        "outputId": "ee060e6e-ef0f-4666-c4b8-44c6febf452f"
      },
      "source": [
        "# Загружаем входную таблицу\n",
        "wb = load_workbook('./input_vacation.xlsx')\n",
        "xls = pd.ExcelFile('./input_vacation.xlsx')\n",
        "# Проверяем имена листов\n",
        "print(wb.sheetnames)"
      ],
      "execution_count": 7,
      "outputs": [
        {
          "output_type": "stream",
          "text": [
            "['params', 'Quals ', 'PersonalLevel ', 'Months', 'QualLevels ', 'MaxFly ', 'Qualified ', 'RequiredPersonal ', 'RestReq ', 'RestPrior ', 'Starts ', 'maxStarts ']\n"
          ],
          "name": "stdout"
        }
      ]
    },
    {
      "cell_type": "code",
      "metadata": {
        "pycharm": {
          "name": "#%%\n"
        },
        "id": "5UCqKntbAhNY"
      },
      "source": [
        "# Переводим таблицу в списко датафреймов, где каждому датафрейму соответствует лист\n",
        "dfs = []\n",
        "for sheet in wb.sheetnames:\n",
        "    df = pd.read_excel(xls, sheet_name=sheet)\n",
        "    dfs.append(df)\n",
        "    df"
      ],
      "execution_count": 8,
      "outputs": []
    },
    {
      "cell_type": "code",
      "metadata": {
        "id": "mpNcgXzx7JyK"
      },
      "source": [
        "# Сохраняем каждый датафрейм с соответственным именем листа в csv\r\n",
        "for df, name in zip(dfs, wb.sheetnames):\r\n",
        "    df.to_csv(path_or_buf=(\"input/\"+name+\".csv\"), index=False)"
      ],
      "execution_count": 10,
      "outputs": []
    },
    {
      "cell_type": "code",
      "metadata": {
        "id": "-y6RBJUz7L4k"
      },
      "source": [
        "# Запаковываем все входные csv в архив\r\n",
        "!zip -r /content/CSVES.zip /content/data\r\n"
      ],
      "execution_count": null,
      "outputs": []
    },
    {
      "cell_type": "code",
      "metadata": {
        "pycharm": {
          "name": "#%%\n"
        },
        "id": "wuaR_mDlAhNi",
        "colab": {
          "base_uri": "https://localhost:8080/"
        },
        "outputId": "f6d0ed03-6fbe-4996-c178-6719897d42e4"
      },
      "source": [
        "# Читаем файлы csv с папки выхода \r\n",
        "import glob\r\n",
        "import os\r\n",
        "\r\n",
        "path = r'output' # use your path\r\n",
        "all_files = glob.glob(path + \"/*.csv\")\r\n",
        "\r\n",
        "out_dfs = []\r\n",
        "names = []\r\n",
        "for filename in all_files:\r\n",
        "    f = open(filename)\r\n",
        "    names.append(os.path.splitext(os.path.basename(f.name))[0])\r\n",
        "    df = pd.read_csv(filename, index_col=None)\r\n",
        "    out_dfs.append(df)\r\n",
        "\r\n"
      ],
      "execution_count": 12,
      "outputs": [
        {
          "output_type": "execute_result",
          "data": {
            "text/plain": [
              "['params', 'Starts ']"
            ]
          },
          "metadata": {
            "tags": []
          },
          "execution_count": 12
        }
      ]
    },
    {
      "cell_type": "code",
      "metadata": {
        "id": "E2cgRuVL8P67"
      },
      "source": [
        "#записываем в xlsx таблицу\r\n",
        "path = r'output/OutTable.xlsx'\r\n",
        "writer = pd.ExcelWriter(path)\r\n",
        "\r\n",
        "for name, df in zip(names, out_dfs):\r\n",
        "    df.to_excel(writer, sheet_name=name, index=False, header=0)\r\n",
        "writer.save()"
      ],
      "execution_count": 17,
      "outputs": []
    },
    {
      "cell_type": "code",
      "metadata": {
        "id": "AsHCVu0cAALN"
      },
      "source": [
        ""
      ],
      "execution_count": null,
      "outputs": []
    }
  ]
}